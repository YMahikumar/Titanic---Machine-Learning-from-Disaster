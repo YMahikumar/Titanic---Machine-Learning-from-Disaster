{
 "cells": [
  {
   "cell_type": "code",
   "execution_count": 1,
   "id": "dfe03655",
   "metadata": {
    "_cell_guid": "b1076dfc-b9ad-4769-8c92-a6c4dae69d19",
    "_uuid": "8f2839f25d086af736a60e9eeb907d3b93b6e0e5",
    "execution": {
     "iopub.execute_input": "2023-12-22T12:38:58.400534Z",
     "iopub.status.busy": "2023-12-22T12:38:58.399833Z",
     "iopub.status.idle": "2023-12-22T12:39:14.499880Z",
     "shell.execute_reply": "2023-12-22T12:39:14.498766Z"
    },
    "papermill": {
     "duration": 16.113829,
     "end_time": "2023-12-22T12:39:14.502754",
     "exception": false,
     "start_time": "2023-12-22T12:38:58.388925",
     "status": "completed"
    },
    "tags": []
   },
   "outputs": [
    {
     "name": "stdout",
     "output_type": "stream",
     "text": [
      "/kaggle/input/titanic/train.csv\n",
      "/kaggle/input/titanic/test.csv\n",
      "/kaggle/input/titanic/gender_submission.csv\n"
     ]
    }
   ],
   "source": [
    "# This Python 3 environment comes with many helpful analytics libraries installed\n",
    "# It is defined by the kaggle/python Docker image: https://github.com/kaggle/docker-python\n",
    "# For example, here's several helpful packages to load\n",
    "\n",
    "import numpy as np # linear algebra\n",
    "import pandas as pd # data processing, CSV file I/O (e.g. pd.read_csv)\n",
    "import matplotlib.pyplot as plt\n",
    "from sklearn.model_selection import train_test_split\n",
    "import seaborn as sns\n",
    "import spacy\n",
    "\n",
    "# Input data files are available in the read-only \"../input/\" directory\n",
    "# For example, running this (by clicking run or pressing Shift+Enter) will list all files under the input directory\n",
    "\n",
    "import os\n",
    "for dirname, _, filenames in os.walk('/kaggle/input'):\n",
    "    for filename in filenames:\n",
    "        print(os.path.join(dirname, filename))\n",
    "\n",
    "# You can write up to 20GB to the current directory (/kaggle/working/) that gets preserved as output when you create a version using \"Save & Run All\" \n",
    "# You can also write temporary files to /kaggle/temp/, but they won't be saved outside of the current session"
   ]
  },
  {
   "cell_type": "code",
   "execution_count": 2,
   "id": "ef4d38eb",
   "metadata": {
    "execution": {
     "iopub.execute_input": "2023-12-22T12:39:14.522264Z",
     "iopub.status.busy": "2023-12-22T12:39:14.521557Z",
     "iopub.status.idle": "2023-12-22T12:39:14.555964Z",
     "shell.execute_reply": "2023-12-22T12:39:14.554844Z"
    },
    "papermill": {
     "duration": 0.047032,
     "end_time": "2023-12-22T12:39:14.558588",
     "exception": false,
     "start_time": "2023-12-22T12:39:14.511556",
     "status": "completed"
    },
    "tags": []
   },
   "outputs": [],
   "source": [
    "data=pd.read_csv('/kaggle/input/titanic/train.csv')\n",
    "test=pd.read_csv('/kaggle/input/titanic/test.csv')\n",
    "gender=pd.read_csv('/kaggle/input/titanic/gender_submission.csv')"
   ]
  },
  {
   "cell_type": "code",
   "execution_count": 3,
   "id": "9d5b6033",
   "metadata": {
    "execution": {
     "iopub.execute_input": "2023-12-22T12:39:14.577170Z",
     "iopub.status.busy": "2023-12-22T12:39:14.576759Z",
     "iopub.status.idle": "2023-12-22T12:39:14.610828Z",
     "shell.execute_reply": "2023-12-22T12:39:14.609664Z"
    },
    "papermill": {
     "duration": 0.046115,
     "end_time": "2023-12-22T12:39:14.613385",
     "exception": false,
     "start_time": "2023-12-22T12:39:14.567270",
     "status": "completed"
    },
    "tags": []
   },
   "outputs": [
    {
     "data": {
      "text/html": [
       "<div>\n",
       "<style scoped>\n",
       "    .dataframe tbody tr th:only-of-type {\n",
       "        vertical-align: middle;\n",
       "    }\n",
       "\n",
       "    .dataframe tbody tr th {\n",
       "        vertical-align: top;\n",
       "    }\n",
       "\n",
       "    .dataframe thead th {\n",
       "        text-align: right;\n",
       "    }\n",
       "</style>\n",
       "<table border=\"1\" class=\"dataframe\">\n",
       "  <thead>\n",
       "    <tr style=\"text-align: right;\">\n",
       "      <th></th>\n",
       "      <th>PassengerId</th>\n",
       "      <th>Survived</th>\n",
       "      <th>Pclass</th>\n",
       "      <th>Name</th>\n",
       "      <th>Sex</th>\n",
       "      <th>Age</th>\n",
       "      <th>SibSp</th>\n",
       "      <th>Parch</th>\n",
       "      <th>Ticket</th>\n",
       "      <th>Fare</th>\n",
       "      <th>Cabin</th>\n",
       "      <th>Embarked</th>\n",
       "    </tr>\n",
       "  </thead>\n",
       "  <tbody>\n",
       "    <tr>\n",
       "      <th>0</th>\n",
       "      <td>1</td>\n",
       "      <td>0</td>\n",
       "      <td>3</td>\n",
       "      <td>Braund, Mr. Owen Harris</td>\n",
       "      <td>male</td>\n",
       "      <td>22.0</td>\n",
       "      <td>1</td>\n",
       "      <td>0</td>\n",
       "      <td>A/5 21171</td>\n",
       "      <td>7.2500</td>\n",
       "      <td>NaN</td>\n",
       "      <td>S</td>\n",
       "    </tr>\n",
       "    <tr>\n",
       "      <th>1</th>\n",
       "      <td>2</td>\n",
       "      <td>1</td>\n",
       "      <td>1</td>\n",
       "      <td>Cumings, Mrs. John Bradley (Florence Briggs Th...</td>\n",
       "      <td>female</td>\n",
       "      <td>38.0</td>\n",
       "      <td>1</td>\n",
       "      <td>0</td>\n",
       "      <td>PC 17599</td>\n",
       "      <td>71.2833</td>\n",
       "      <td>C85</td>\n",
       "      <td>C</td>\n",
       "    </tr>\n",
       "    <tr>\n",
       "      <th>2</th>\n",
       "      <td>3</td>\n",
       "      <td>1</td>\n",
       "      <td>3</td>\n",
       "      <td>Heikkinen, Miss. Laina</td>\n",
       "      <td>female</td>\n",
       "      <td>26.0</td>\n",
       "      <td>0</td>\n",
       "      <td>0</td>\n",
       "      <td>STON/O2. 3101282</td>\n",
       "      <td>7.9250</td>\n",
       "      <td>NaN</td>\n",
       "      <td>S</td>\n",
       "    </tr>\n",
       "    <tr>\n",
       "      <th>3</th>\n",
       "      <td>4</td>\n",
       "      <td>1</td>\n",
       "      <td>1</td>\n",
       "      <td>Futrelle, Mrs. Jacques Heath (Lily May Peel)</td>\n",
       "      <td>female</td>\n",
       "      <td>35.0</td>\n",
       "      <td>1</td>\n",
       "      <td>0</td>\n",
       "      <td>113803</td>\n",
       "      <td>53.1000</td>\n",
       "      <td>C123</td>\n",
       "      <td>S</td>\n",
       "    </tr>\n",
       "    <tr>\n",
       "      <th>4</th>\n",
       "      <td>5</td>\n",
       "      <td>0</td>\n",
       "      <td>3</td>\n",
       "      <td>Allen, Mr. William Henry</td>\n",
       "      <td>male</td>\n",
       "      <td>35.0</td>\n",
       "      <td>0</td>\n",
       "      <td>0</td>\n",
       "      <td>373450</td>\n",
       "      <td>8.0500</td>\n",
       "      <td>NaN</td>\n",
       "      <td>S</td>\n",
       "    </tr>\n",
       "  </tbody>\n",
       "</table>\n",
       "</div>"
      ],
      "text/plain": [
       "   PassengerId  Survived  Pclass  \\\n",
       "0            1         0       3   \n",
       "1            2         1       1   \n",
       "2            3         1       3   \n",
       "3            4         1       1   \n",
       "4            5         0       3   \n",
       "\n",
       "                                                Name     Sex   Age  SibSp  \\\n",
       "0                            Braund, Mr. Owen Harris    male  22.0      1   \n",
       "1  Cumings, Mrs. John Bradley (Florence Briggs Th...  female  38.0      1   \n",
       "2                             Heikkinen, Miss. Laina  female  26.0      0   \n",
       "3       Futrelle, Mrs. Jacques Heath (Lily May Peel)  female  35.0      1   \n",
       "4                           Allen, Mr. William Henry    male  35.0      0   \n",
       "\n",
       "   Parch            Ticket     Fare Cabin Embarked  \n",
       "0      0         A/5 21171   7.2500   NaN        S  \n",
       "1      0          PC 17599  71.2833   C85        C  \n",
       "2      0  STON/O2. 3101282   7.9250   NaN        S  \n",
       "3      0            113803  53.1000  C123        S  \n",
       "4      0            373450   8.0500   NaN        S  "
      ]
     },
     "execution_count": 3,
     "metadata": {},
     "output_type": "execute_result"
    }
   ],
   "source": [
    "data.head()"
   ]
  },
  {
   "cell_type": "code",
   "execution_count": 4,
   "id": "7798f1b4",
   "metadata": {
    "execution": {
     "iopub.execute_input": "2023-12-22T12:39:14.632818Z",
     "iopub.status.busy": "2023-12-22T12:39:14.632418Z",
     "iopub.status.idle": "2023-12-22T12:39:14.657190Z",
     "shell.execute_reply": "2023-12-22T12:39:14.656029Z"
    },
    "papermill": {
     "duration": 0.037127,
     "end_time": "2023-12-22T12:39:14.659606",
     "exception": false,
     "start_time": "2023-12-22T12:39:14.622479",
     "status": "completed"
    },
    "tags": []
   },
   "outputs": [
    {
     "data": {
      "text/plain": [
       "array(['Mr.', 'Mrs.', 'Miss.', 'Master.', 'others'], dtype=object)"
      ]
     },
     "execution_count": 4,
     "metadata": {},
     "output_type": "execute_result"
    }
   ],
   "source": [
    "data['surname']=data['Name'].apply(lambda x: x.split(' ')[1])\n",
    "count=data['surname'].value_counts()\n",
    "surn = count[count < 10].index\n",
    "data['surname'] = data['surname'].apply(lambda x: 'others' if x in surn else x)\n",
    "# m = data[data['surname'].isin(count.index[count >= 10])]\n",
    "# data=m\n",
    "data['surname'].unique()"
   ]
  },
  {
   "cell_type": "code",
   "execution_count": 5,
   "id": "5e532769",
   "metadata": {
    "execution": {
     "iopub.execute_input": "2023-12-22T12:39:14.679442Z",
     "iopub.status.busy": "2023-12-22T12:39:14.679014Z",
     "iopub.status.idle": "2023-12-22T12:39:14.693810Z",
     "shell.execute_reply": "2023-12-22T12:39:14.692680Z"
    },
    "papermill": {
     "duration": 0.027249,
     "end_time": "2023-12-22T12:39:14.696091",
     "exception": false,
     "start_time": "2023-12-22T12:39:14.668842",
     "status": "completed"
    },
    "tags": []
   },
   "outputs": [
    {
     "data": {
      "text/plain": [
       "array(['Mr.', 'Mrs.', 'Miss.', 'others', 'Master.'], dtype=object)"
      ]
     },
     "execution_count": 5,
     "metadata": {},
     "output_type": "execute_result"
    }
   ],
   "source": [
    "test['surname']=test['Name'].apply(lambda x: x.split(' ')[1])\n",
    "test['surname'].value_counts()\n",
    "count=test['surname'].value_counts()\n",
    "surn = count[count < 10].index\n",
    "test['surname'] = test['surname'].apply(lambda x: 'others' if x in surn else x)\n",
    "test['surname'].unique()"
   ]
  },
  {
   "cell_type": "code",
   "execution_count": 6,
   "id": "a23dba37",
   "metadata": {
    "execution": {
     "iopub.execute_input": "2023-12-22T12:39:14.716133Z",
     "iopub.status.busy": "2023-12-22T12:39:14.715747Z",
     "iopub.status.idle": "2023-12-22T12:39:14.725215Z",
     "shell.execute_reply": "2023-12-22T12:39:14.724221Z"
    },
    "papermill": {
     "duration": 0.022154,
     "end_time": "2023-12-22T12:39:14.727552",
     "exception": false,
     "start_time": "2023-12-22T12:39:14.705398",
     "status": "completed"
    },
    "tags": []
   },
   "outputs": [
    {
     "data": {
      "text/plain": [
       "0                                Braund, Mr. Owen Harris\n",
       "1      Cumings, Mrs. John Bradley (Florence Briggs Th...\n",
       "2                                 Heikkinen, Miss. Laina\n",
       "3           Futrelle, Mrs. Jacques Heath (Lily May Peel)\n",
       "4                               Allen, Mr. William Henry\n",
       "                             ...                        \n",
       "886                                Montvila, Rev. Juozas\n",
       "887                         Graham, Miss. Margaret Edith\n",
       "888             Johnston, Miss. Catherine Helen \"Carrie\"\n",
       "889                                Behr, Mr. Karl Howell\n",
       "890                                  Dooley, Mr. Patrick\n",
       "Name: Name, Length: 891, dtype: object"
      ]
     },
     "execution_count": 6,
     "metadata": {},
     "output_type": "execute_result"
    }
   ],
   "source": [
    "data.head()\n",
    "data['Name']"
   ]
  },
  {
   "cell_type": "code",
   "execution_count": 7,
   "id": "97a82fa0",
   "metadata": {
    "execution": {
     "iopub.execute_input": "2023-12-22T12:39:14.749213Z",
     "iopub.status.busy": "2023-12-22T12:39:14.748636Z",
     "iopub.status.idle": "2023-12-22T12:39:14.767045Z",
     "shell.execute_reply": "2023-12-22T12:39:14.765910Z"
    },
    "papermill": {
     "duration": 0.032415,
     "end_time": "2023-12-22T12:39:14.769308",
     "exception": false,
     "start_time": "2023-12-22T12:39:14.736893",
     "status": "completed"
    },
    "tags": []
   },
   "outputs": [
    {
     "data": {
      "text/html": [
       "<div>\n",
       "<style scoped>\n",
       "    .dataframe tbody tr th:only-of-type {\n",
       "        vertical-align: middle;\n",
       "    }\n",
       "\n",
       "    .dataframe tbody tr th {\n",
       "        vertical-align: top;\n",
       "    }\n",
       "\n",
       "    .dataframe thead th {\n",
       "        text-align: right;\n",
       "    }\n",
       "</style>\n",
       "<table border=\"1\" class=\"dataframe\">\n",
       "  <thead>\n",
       "    <tr style=\"text-align: right;\">\n",
       "      <th></th>\n",
       "      <th>PassengerId</th>\n",
       "      <th>Pclass</th>\n",
       "      <th>Name</th>\n",
       "      <th>Sex</th>\n",
       "      <th>Age</th>\n",
       "      <th>SibSp</th>\n",
       "      <th>Parch</th>\n",
       "      <th>Ticket</th>\n",
       "      <th>Fare</th>\n",
       "      <th>Cabin</th>\n",
       "      <th>Embarked</th>\n",
       "      <th>surname</th>\n",
       "    </tr>\n",
       "  </thead>\n",
       "  <tbody>\n",
       "    <tr>\n",
       "      <th>0</th>\n",
       "      <td>892</td>\n",
       "      <td>3</td>\n",
       "      <td>Kelly, Mr. James</td>\n",
       "      <td>male</td>\n",
       "      <td>34.5</td>\n",
       "      <td>0</td>\n",
       "      <td>0</td>\n",
       "      <td>330911</td>\n",
       "      <td>7.8292</td>\n",
       "      <td>NaN</td>\n",
       "      <td>Q</td>\n",
       "      <td>Mr.</td>\n",
       "    </tr>\n",
       "    <tr>\n",
       "      <th>1</th>\n",
       "      <td>893</td>\n",
       "      <td>3</td>\n",
       "      <td>Wilkes, Mrs. James (Ellen Needs)</td>\n",
       "      <td>female</td>\n",
       "      <td>47.0</td>\n",
       "      <td>1</td>\n",
       "      <td>0</td>\n",
       "      <td>363272</td>\n",
       "      <td>7.0000</td>\n",
       "      <td>NaN</td>\n",
       "      <td>S</td>\n",
       "      <td>Mrs.</td>\n",
       "    </tr>\n",
       "    <tr>\n",
       "      <th>2</th>\n",
       "      <td>894</td>\n",
       "      <td>2</td>\n",
       "      <td>Myles, Mr. Thomas Francis</td>\n",
       "      <td>male</td>\n",
       "      <td>62.0</td>\n",
       "      <td>0</td>\n",
       "      <td>0</td>\n",
       "      <td>240276</td>\n",
       "      <td>9.6875</td>\n",
       "      <td>NaN</td>\n",
       "      <td>Q</td>\n",
       "      <td>Mr.</td>\n",
       "    </tr>\n",
       "    <tr>\n",
       "      <th>3</th>\n",
       "      <td>895</td>\n",
       "      <td>3</td>\n",
       "      <td>Wirz, Mr. Albert</td>\n",
       "      <td>male</td>\n",
       "      <td>27.0</td>\n",
       "      <td>0</td>\n",
       "      <td>0</td>\n",
       "      <td>315154</td>\n",
       "      <td>8.6625</td>\n",
       "      <td>NaN</td>\n",
       "      <td>S</td>\n",
       "      <td>Mr.</td>\n",
       "    </tr>\n",
       "    <tr>\n",
       "      <th>4</th>\n",
       "      <td>896</td>\n",
       "      <td>3</td>\n",
       "      <td>Hirvonen, Mrs. Alexander (Helga E Lindqvist)</td>\n",
       "      <td>female</td>\n",
       "      <td>22.0</td>\n",
       "      <td>1</td>\n",
       "      <td>1</td>\n",
       "      <td>3101298</td>\n",
       "      <td>12.2875</td>\n",
       "      <td>NaN</td>\n",
       "      <td>S</td>\n",
       "      <td>Mrs.</td>\n",
       "    </tr>\n",
       "  </tbody>\n",
       "</table>\n",
       "</div>"
      ],
      "text/plain": [
       "   PassengerId  Pclass                                          Name     Sex  \\\n",
       "0          892       3                              Kelly, Mr. James    male   \n",
       "1          893       3              Wilkes, Mrs. James (Ellen Needs)  female   \n",
       "2          894       2                     Myles, Mr. Thomas Francis    male   \n",
       "3          895       3                              Wirz, Mr. Albert    male   \n",
       "4          896       3  Hirvonen, Mrs. Alexander (Helga E Lindqvist)  female   \n",
       "\n",
       "    Age  SibSp  Parch   Ticket     Fare Cabin Embarked surname  \n",
       "0  34.5      0      0   330911   7.8292   NaN        Q     Mr.  \n",
       "1  47.0      1      0   363272   7.0000   NaN        S    Mrs.  \n",
       "2  62.0      0      0   240276   9.6875   NaN        Q     Mr.  \n",
       "3  27.0      0      0   315154   8.6625   NaN        S     Mr.  \n",
       "4  22.0      1      1  3101298  12.2875   NaN        S    Mrs.  "
      ]
     },
     "execution_count": 7,
     "metadata": {},
     "output_type": "execute_result"
    }
   ],
   "source": [
    "test.head()"
   ]
  },
  {
   "cell_type": "code",
   "execution_count": 8,
   "id": "41ed42c9",
   "metadata": {
    "execution": {
     "iopub.execute_input": "2023-12-22T12:39:14.790939Z",
     "iopub.status.busy": "2023-12-22T12:39:14.790207Z",
     "iopub.status.idle": "2023-12-22T12:39:14.805516Z",
     "shell.execute_reply": "2023-12-22T12:39:14.804574Z"
    },
    "papermill": {
     "duration": 0.028695,
     "end_time": "2023-12-22T12:39:14.807887",
     "exception": false,
     "start_time": "2023-12-22T12:39:14.779192",
     "status": "completed"
    },
    "tags": []
   },
   "outputs": [
    {
     "data": {
      "text/plain": [
       "PassengerId      0\n",
       "Pclass           0\n",
       "Name             0\n",
       "Sex              0\n",
       "Age              0\n",
       "SibSp            0\n",
       "Parch            0\n",
       "Ticket           0\n",
       "Fare             1\n",
       "Cabin          327\n",
       "Embarked         0\n",
       "surname          0\n",
       "dtype: int64"
      ]
     },
     "execution_count": 8,
     "metadata": {},
     "output_type": "execute_result"
    }
   ],
   "source": [
    "data['Age'] = data['Age'].fillna(data['Age'].mode()[0])\n",
    "data.isnull().sum()\n",
    "test['Age'] = test['Age'].fillna(test['Age'].mode()[0])\n",
    "test.isnull().sum()"
   ]
  },
  {
   "cell_type": "code",
   "execution_count": 9,
   "id": "272dd16f",
   "metadata": {
    "execution": {
     "iopub.execute_input": "2023-12-22T12:39:14.829666Z",
     "iopub.status.busy": "2023-12-22T12:39:14.829279Z",
     "iopub.status.idle": "2023-12-22T12:39:14.838610Z",
     "shell.execute_reply": "2023-12-22T12:39:14.837634Z"
    },
    "papermill": {
     "duration": 0.022709,
     "end_time": "2023-12-22T12:39:14.840937",
     "exception": false,
     "start_time": "2023-12-22T12:39:14.818228",
     "status": "completed"
    },
    "tags": []
   },
   "outputs": [
    {
     "data": {
      "text/html": [
       "<div>\n",
       "<style scoped>\n",
       "    .dataframe tbody tr th:only-of-type {\n",
       "        vertical-align: middle;\n",
       "    }\n",
       "\n",
       "    .dataframe tbody tr th {\n",
       "        vertical-align: top;\n",
       "    }\n",
       "\n",
       "    .dataframe thead th {\n",
       "        text-align: right;\n",
       "    }\n",
       "</style>\n",
       "<table border=\"1\" class=\"dataframe\">\n",
       "  <thead>\n",
       "    <tr style=\"text-align: right;\">\n",
       "      <th></th>\n",
       "      <th>PassengerId</th>\n",
       "      <th>Survived</th>\n",
       "    </tr>\n",
       "  </thead>\n",
       "  <tbody>\n",
       "    <tr>\n",
       "      <th>0</th>\n",
       "      <td>892</td>\n",
       "      <td>0</td>\n",
       "    </tr>\n",
       "    <tr>\n",
       "      <th>1</th>\n",
       "      <td>893</td>\n",
       "      <td>1</td>\n",
       "    </tr>\n",
       "    <tr>\n",
       "      <th>2</th>\n",
       "      <td>894</td>\n",
       "      <td>0</td>\n",
       "    </tr>\n",
       "    <tr>\n",
       "      <th>3</th>\n",
       "      <td>895</td>\n",
       "      <td>0</td>\n",
       "    </tr>\n",
       "    <tr>\n",
       "      <th>4</th>\n",
       "      <td>896</td>\n",
       "      <td>1</td>\n",
       "    </tr>\n",
       "  </tbody>\n",
       "</table>\n",
       "</div>"
      ],
      "text/plain": [
       "   PassengerId  Survived\n",
       "0          892         0\n",
       "1          893         1\n",
       "2          894         0\n",
       "3          895         0\n",
       "4          896         1"
      ]
     },
     "execution_count": 9,
     "metadata": {},
     "output_type": "execute_result"
    }
   ],
   "source": [
    "gender.head()"
   ]
  },
  {
   "cell_type": "code",
   "execution_count": 10,
   "id": "2a0287ab",
   "metadata": {
    "execution": {
     "iopub.execute_input": "2023-12-22T12:39:14.861672Z",
     "iopub.status.busy": "2023-12-22T12:39:14.861350Z",
     "iopub.status.idle": "2023-12-22T12:39:14.869179Z",
     "shell.execute_reply": "2023-12-22T12:39:14.868123Z"
    },
    "papermill": {
     "duration": 0.020641,
     "end_time": "2023-12-22T12:39:14.871088",
     "exception": false,
     "start_time": "2023-12-22T12:39:14.850447",
     "status": "completed"
    },
    "tags": []
   },
   "outputs": [
    {
     "data": {
      "text/plain": [
       "Survived\n",
       "0    549\n",
       "1    342\n",
       "Name: count, dtype: int64"
      ]
     },
     "execution_count": 10,
     "metadata": {},
     "output_type": "execute_result"
    }
   ],
   "source": [
    "data['Survived'].value_counts()"
   ]
  },
  {
   "cell_type": "code",
   "execution_count": 11,
   "id": "c38cdea9",
   "metadata": {
    "execution": {
     "iopub.execute_input": "2023-12-22T12:39:14.892384Z",
     "iopub.status.busy": "2023-12-22T12:39:14.891773Z",
     "iopub.status.idle": "2023-12-22T12:39:15.149559Z",
     "shell.execute_reply": "2023-12-22T12:39:15.148070Z"
    },
    "papermill": {
     "duration": 0.271179,
     "end_time": "2023-12-22T12:39:15.152102",
     "exception": false,
     "start_time": "2023-12-22T12:39:14.880923",
     "status": "completed"
    },
    "tags": []
   },
   "outputs": [
    {
     "data": {
      "text/plain": [
       "<BarContainer object of 2 artists>"
      ]
     },
     "execution_count": 11,
     "metadata": {},
     "output_type": "execute_result"
    },
    {
     "data": {
      "image/png": "[encoded data removed]",
      "text/plain": [
       "<Figure size 300x300 with 1 Axes>"
      ]
     },
     "metadata": {},
     "output_type": "display_data"
    }
   ],
   "source": [
    "plt.figure(figsize=(3,3))\n",
    "plt.bar(list(data['Survived'].value_counts().keys()),list(data['Survived'].value_counts()),color='r')"
   ]
  },
  {
   "cell_type": "code",
   "execution_count": 12,
   "id": "c0e96dc1",
   "metadata": {
    "execution": {
     "iopub.execute_input": "2023-12-22T12:39:15.175238Z",
     "iopub.status.busy": "2023-12-22T12:39:15.174267Z",
     "iopub.status.idle": "2023-12-22T12:39:15.182407Z",
     "shell.execute_reply": "2023-12-22T12:39:15.181459Z"
    },
    "papermill": {
     "duration": 0.022216,
     "end_time": "2023-12-22T12:39:15.184791",
     "exception": false,
     "start_time": "2023-12-22T12:39:15.162575",
     "status": "completed"
    },
    "tags": []
   },
   "outputs": [
    {
     "data": {
      "text/plain": [
       "Pclass\n",
       "3    491\n",
       "1    216\n",
       "2    184\n",
       "Name: count, dtype: int64"
      ]
     },
     "execution_count": 12,
     "metadata": {},
     "output_type": "execute_result"
    }
   ],
   "source": [
    "data['Pclass'].value_counts()"
   ]
  },
  {
   "cell_type": "code",
   "execution_count": 13,
   "id": "143d7d23",
   "metadata": {
    "execution": {
     "iopub.execute_input": "2023-12-22T12:39:15.207436Z",
     "iopub.status.busy": "2023-12-22T12:39:15.206519Z",
     "iopub.status.idle": "2023-12-22T12:39:15.501404Z",
     "shell.execute_reply": "2023-12-22T12:39:15.500415Z"
    },
    "papermill": {
     "duration": 0.308904,
     "end_time": "2023-12-22T12:39:15.503842",
     "exception": false,
     "start_time": "2023-12-22T12:39:15.194938",
     "status": "completed"
    },
    "tags": []
   },
   "outputs": [
    {
     "data": {
      "text/plain": [
       "<Axes: xlabel='Sex', ylabel='Survived'>"
      ]
     },
     "execution_count": 13,
     "metadata": {},
     "output_type": "execute_result"
    },
    {
     "data": {
      "image/png": "[encoded data removed]",
      "text/plain": [
       "<Figure size 300x300 with 1 Axes>"
      ]
     },
     "metadata": {},
     "output_type": "display_data"
    }
   ],
   "source": [
    "plt.figure(figsize=(3,3))\n",
    "sns.barplot(x=data.Sex, y=data.Survived)\n"
   ]
  },
  {
   "cell_type": "code",
   "execution_count": 14,
   "id": "b85b5fa0",
   "metadata": {
    "execution": {
     "iopub.execute_input": "2023-12-22T12:39:15.527767Z",
     "iopub.status.busy": "2023-12-22T12:39:15.527419Z",
     "iopub.status.idle": "2023-12-22T12:39:15.864668Z",
     "shell.execute_reply": "2023-12-22T12:39:15.863638Z"
    },
    "papermill": {
     "duration": 0.352082,
     "end_time": "2023-12-22T12:39:15.867109",
     "exception": false,
     "start_time": "2023-12-22T12:39:15.515027",
     "status": "completed"
    },
    "tags": []
   },
   "outputs": [
    {
     "data": {
      "text/plain": [
       "<Axes: xlabel='Pclass', ylabel='Survived'>"
      ]
     },
     "execution_count": 14,
     "metadata": {},
     "output_type": "execute_result"
    },
    {
     "data": {
      "image/png": "[encoded data removed]",
      "text/plain": [
       "<Figure size 300x300 with 1 Axes>"
      ]
     },
     "metadata": {},
     "output_type": "display_data"
    }
   ],
   "source": [
    "plt.figure(figsize=(3,3))\n",
    "\n",
    "sns.barplot(x=data.Pclass, y=data.Survived)\n"
   ]
  },
  {
   "cell_type": "code",
   "execution_count": 15,
   "id": "61f02aac",
   "metadata": {
    "execution": {
     "iopub.execute_input": "2023-12-22T12:39:15.891230Z",
     "iopub.status.busy": "2023-12-22T12:39:15.890841Z",
     "iopub.status.idle": "2023-12-22T12:39:15.898100Z",
     "shell.execute_reply": "2023-12-22T12:39:15.897122Z"
    },
    "papermill": {
     "duration": 0.02198,
     "end_time": "2023-12-22T12:39:15.900525",
     "exception": false,
     "start_time": "2023-12-22T12:39:15.878545",
     "status": "completed"
    },
    "tags": []
   },
   "outputs": [
    {
     "data": {
      "text/plain": [
       "0"
      ]
     },
     "execution_count": 15,
     "metadata": {},
     "output_type": "execute_result"
    }
   ],
   "source": [
    "sum(data['Pclass'].isnull())"
   ]
  },
  {
   "cell_type": "code",
   "execution_count": 16,
   "id": "5e514aa5",
   "metadata": {
    "execution": {
     "iopub.execute_input": "2023-12-22T12:39:15.926313Z",
     "iopub.status.busy": "2023-12-22T12:39:15.925148Z",
     "iopub.status.idle": "2023-12-22T12:39:15.935121Z",
     "shell.execute_reply": "2023-12-22T12:39:15.934116Z"
    },
    "papermill": {
     "duration": 0.025352,
     "end_time": "2023-12-22T12:39:15.937364",
     "exception": false,
     "start_time": "2023-12-22T12:39:15.912012",
     "status": "completed"
    },
    "tags": []
   },
   "outputs": [
    {
     "data": {
      "text/plain": [
       "PassengerId      0\n",
       "Survived         0\n",
       "Pclass           0\n",
       "Name             0\n",
       "Sex              0\n",
       "Age              0\n",
       "SibSp            0\n",
       "Parch            0\n",
       "Ticket           0\n",
       "Fare             0\n",
       "Cabin          687\n",
       "Embarked         2\n",
       "surname          0\n",
       "dtype: int64"
      ]
     },
     "execution_count": 16,
     "metadata": {},
     "output_type": "execute_result"
    }
   ],
   "source": [
    "data.isnull().sum()"
   ]
  },
  {
   "cell_type": "code",
   "execution_count": 17,
   "id": "7b12e594",
   "metadata": {
    "execution": {
     "iopub.execute_input": "2023-12-22T12:39:15.962794Z",
     "iopub.status.busy": "2023-12-22T12:39:15.961775Z",
     "iopub.status.idle": "2023-12-22T12:39:15.970683Z",
     "shell.execute_reply": "2023-12-22T12:39:15.969571Z"
    },
    "papermill": {
     "duration": 0.023839,
     "end_time": "2023-12-22T12:39:15.972779",
     "exception": false,
     "start_time": "2023-12-22T12:39:15.948940",
     "status": "completed"
    },
    "tags": []
   },
   "outputs": [
    {
     "data": {
      "text/plain": [
       "Pclass\n",
       "3    491\n",
       "1    216\n",
       "2    184\n",
       "Name: count, dtype: int64"
      ]
     },
     "execution_count": 17,
     "metadata": {},
     "output_type": "execute_result"
    }
   ],
   "source": [
    "data['Pclass'].value_counts()"
   ]
  },
  {
   "cell_type": "code",
   "execution_count": 18,
   "id": "7b68e4e9",
   "metadata": {
    "execution": {
     "iopub.execute_input": "2023-12-22T12:39:15.997866Z",
     "iopub.status.busy": "2023-12-22T12:39:15.997503Z",
     "iopub.status.idle": "2023-12-22T12:39:16.176202Z",
     "shell.execute_reply": "2023-12-22T12:39:16.175261Z"
    },
    "papermill": {
     "duration": 0.194424,
     "end_time": "2023-12-22T12:39:16.179086",
     "exception": false,
     "start_time": "2023-12-22T12:39:15.984662",
     "status": "completed"
    },
    "tags": []
   },
   "outputs": [],
   "source": [
    "from xgboost import XGBClassifier \n",
    "f=[\"Pclass\",\"Sex\",\"surname\"]\n",
    "y= data[\"Survived\"]\n",
    "x = pd.get_dummies(data[f])\n",
    "x['Age']=data['Age']\n",
    "x['SibSp']=data['SibSp'].astype(int)\n",
    "#X_train, X_val, y_train, y_val = train_test_split(x, y, test_size = 0.2, random_state = 42)\n",
    "test_x=pd.get_dummies(test[f])\n",
    "test_x['Age']=test['Age']\n",
    "test_x['SibSp']=test['SibSp'].astype(int)\n",
    "# model = XGBClassifier (n_estimators=50, learning_rate=0.05, n_jobs=4)\n",
    "# model.fit(X_train,y_train )\n",
    "# predictions = model.predict(X_val)\n",
    "\n",
    "\n"
   ]
  },
  {
   "cell_type": "code",
   "execution_count": 19,
   "id": "e0b8d0a8",
   "metadata": {
    "execution": {
     "iopub.execute_input": "2023-12-22T12:39:16.203946Z",
     "iopub.status.busy": "2023-12-22T12:39:16.203606Z",
     "iopub.status.idle": "2023-12-22T12:39:16.226379Z",
     "shell.execute_reply": "2023-12-22T12:39:16.225303Z"
    },
    "papermill": {
     "duration": 0.037603,
     "end_time": "2023-12-22T12:39:16.228584",
     "exception": false,
     "start_time": "2023-12-22T12:39:16.190981",
     "status": "completed"
    },
    "tags": []
   },
   "outputs": [
    {
     "data": {
      "text/html": [
       "<div>\n",
       "<style scoped>\n",
       "    .dataframe tbody tr th:only-of-type {\n",
       "        vertical-align: middle;\n",
       "    }\n",
       "\n",
       "    .dataframe tbody tr th {\n",
       "        vertical-align: top;\n",
       "    }\n",
       "\n",
       "    .dataframe thead th {\n",
       "        text-align: right;\n",
       "    }\n",
       "</style>\n",
       "<table border=\"1\" class=\"dataframe\">\n",
       "  <thead>\n",
       "    <tr style=\"text-align: right;\">\n",
       "      <th></th>\n",
       "      <th>Pclass</th>\n",
       "      <th>Sex_female</th>\n",
       "      <th>Sex_male</th>\n",
       "      <th>surname_Master.</th>\n",
       "      <th>surname_Miss.</th>\n",
       "      <th>surname_Mr.</th>\n",
       "      <th>surname_Mrs.</th>\n",
       "      <th>surname_others</th>\n",
       "      <th>Age</th>\n",
       "      <th>SibSp</th>\n",
       "      <th>sur</th>\n",
       "    </tr>\n",
       "  </thead>\n",
       "  <tbody>\n",
       "    <tr>\n",
       "      <th>Pclass</th>\n",
       "      <td>1.000000</td>\n",
       "      <td>-0.131900</td>\n",
       "      <td>0.131900</td>\n",
       "      <td>0.082081</td>\n",
       "      <td>-0.004180</td>\n",
       "      <td>0.130159</td>\n",
       "      <td>-0.154262</td>\n",
       "      <td>-0.118563</td>\n",
       "      <td>-0.356187</td>\n",
       "      <td>0.083081</td>\n",
       "      <td>-0.338481</td>\n",
       "    </tr>\n",
       "    <tr>\n",
       "      <th>Sex_female</th>\n",
       "      <td>-0.131900</td>\n",
       "      <td>1.000000</td>\n",
       "      <td>-1.000000</td>\n",
       "      <td>-0.159934</td>\n",
       "      <td>0.679688</td>\n",
       "      <td>-0.838019</td>\n",
       "      <td>0.537366</td>\n",
       "      <td>-0.033681</td>\n",
       "      <td>-0.073377</td>\n",
       "      <td>0.114631</td>\n",
       "      <td>0.543351</td>\n",
       "    </tr>\n",
       "    <tr>\n",
       "      <th>Sex_male</th>\n",
       "      <td>0.131900</td>\n",
       "      <td>-1.000000</td>\n",
       "      <td>1.000000</td>\n",
       "      <td>0.159934</td>\n",
       "      <td>-0.679688</td>\n",
       "      <td>0.838019</td>\n",
       "      <td>-0.537366</td>\n",
       "      <td>0.033681</td>\n",
       "      <td>0.073377</td>\n",
       "      <td>-0.114631</td>\n",
       "      <td>-0.543351</td>\n",
       "    </tr>\n",
       "    <tr>\n",
       "      <th>surname_Master.</th>\n",
       "      <td>0.082081</td>\n",
       "      <td>-0.159934</td>\n",
       "      <td>0.159934</td>\n",
       "      <td>1.000000</td>\n",
       "      <td>-0.108706</td>\n",
       "      <td>-0.246287</td>\n",
       "      <td>-0.085943</td>\n",
       "      <td>-0.052301</td>\n",
       "      <td>-0.362378</td>\n",
       "      <td>0.349559</td>\n",
       "      <td>0.085221</td>\n",
       "    </tr>\n",
       "    <tr>\n",
       "      <th>surname_Miss.</th>\n",
       "      <td>-0.004180</td>\n",
       "      <td>0.679688</td>\n",
       "      <td>-0.679688</td>\n",
       "      <td>-0.108706</td>\n",
       "      <td>1.000000</td>\n",
       "      <td>-0.569592</td>\n",
       "      <td>-0.198762</td>\n",
       "      <td>-0.120956</td>\n",
       "      <td>-0.238978</td>\n",
       "      <td>0.084842</td>\n",
       "      <td>0.329999</td>\n",
       "    </tr>\n",
       "    <tr>\n",
       "      <th>surname_Mr.</th>\n",
       "      <td>0.130159</td>\n",
       "      <td>-0.838019</td>\n",
       "      <td>0.838019</td>\n",
       "      <td>-0.246287</td>\n",
       "      <td>-0.569592</td>\n",
       "      <td>1.000000</td>\n",
       "      <td>-0.450323</td>\n",
       "      <td>-0.274043</td>\n",
       "      <td>0.160795</td>\n",
       "      <td>-0.243413</td>\n",
       "      <td>-0.529008</td>\n",
       "    </tr>\n",
       "    <tr>\n",
       "      <th>surname_Mrs.</th>\n",
       "      <td>-0.154262</td>\n",
       "      <td>0.537366</td>\n",
       "      <td>-0.537366</td>\n",
       "      <td>-0.085943</td>\n",
       "      <td>-0.198762</td>\n",
       "      <td>-0.450323</td>\n",
       "      <td>1.000000</td>\n",
       "      <td>-0.095629</td>\n",
       "      <td>0.177413</td>\n",
       "      <td>0.058607</td>\n",
       "      <td>0.340572</td>\n",
       "    </tr>\n",
       "    <tr>\n",
       "      <th>surname_others</th>\n",
       "      <td>-0.118563</td>\n",
       "      <td>-0.033681</td>\n",
       "      <td>0.033681</td>\n",
       "      <td>-0.052301</td>\n",
       "      <td>-0.120956</td>\n",
       "      <td>-0.274043</td>\n",
       "      <td>-0.095629</td>\n",
       "      <td>1.000000</td>\n",
       "      <td>0.132751</td>\n",
       "      <td>-0.025137</td>\n",
       "      <td>-0.018304</td>\n",
       "    </tr>\n",
       "    <tr>\n",
       "      <th>Age</th>\n",
       "      <td>-0.356187</td>\n",
       "      <td>-0.073377</td>\n",
       "      <td>0.073377</td>\n",
       "      <td>-0.362378</td>\n",
       "      <td>-0.238978</td>\n",
       "      <td>0.160795</td>\n",
       "      <td>0.177413</td>\n",
       "      <td>0.132751</td>\n",
       "      <td>1.000000</td>\n",
       "      <td>-0.232411</td>\n",
       "      <td>-0.052872</td>\n",
       "    </tr>\n",
       "    <tr>\n",
       "      <th>SibSp</th>\n",
       "      <td>0.083081</td>\n",
       "      <td>0.114631</td>\n",
       "      <td>-0.114631</td>\n",
       "      <td>0.349559</td>\n",
       "      <td>0.084842</td>\n",
       "      <td>-0.243413</td>\n",
       "      <td>0.058607</td>\n",
       "      <td>-0.025137</td>\n",
       "      <td>-0.232411</td>\n",
       "      <td>1.000000</td>\n",
       "      <td>-0.035322</td>\n",
       "    </tr>\n",
       "    <tr>\n",
       "      <th>sur</th>\n",
       "      <td>-0.338481</td>\n",
       "      <td>0.543351</td>\n",
       "      <td>-0.543351</td>\n",
       "      <td>0.085221</td>\n",
       "      <td>0.329999</td>\n",
       "      <td>-0.529008</td>\n",
       "      <td>0.340572</td>\n",
       "      <td>-0.018304</td>\n",
       "      <td>-0.052872</td>\n",
       "      <td>-0.035322</td>\n",
       "      <td>1.000000</td>\n",
       "    </tr>\n",
       "  </tbody>\n",
       "</table>\n",
       "</div>"
      ],
      "text/plain": [
       "                   Pclass  Sex_female  Sex_male  surname_Master.  \\\n",
       "Pclass           1.000000   -0.131900  0.131900         0.082081   \n",
       "Sex_female      -0.131900    1.000000 -1.000000        -0.159934   \n",
       "Sex_male         0.131900   -1.000000  1.000000         0.159934   \n",
       "surname_Master.  0.082081   -0.159934  0.159934         1.000000   \n",
       "surname_Miss.   -0.004180    0.679688 -0.679688        -0.108706   \n",
       "surname_Mr.      0.130159   -0.838019  0.838019        -0.246287   \n",
       "surname_Mrs.    -0.154262    0.537366 -0.537366        -0.085943   \n",
       "surname_others  -0.118563   -0.033681  0.033681        -0.052301   \n",
       "Age             -0.356187   -0.073377  0.073377        -0.362378   \n",
       "SibSp            0.083081    0.114631 -0.114631         0.349559   \n",
       "sur             -0.338481    0.543351 -0.543351         0.085221   \n",
       "\n",
       "                 surname_Miss.  surname_Mr.  surname_Mrs.  surname_others  \\\n",
       "Pclass               -0.004180     0.130159     -0.154262       -0.118563   \n",
       "Sex_female            0.679688    -0.838019      0.537366       -0.033681   \n",
       "Sex_male             -0.679688     0.838019     -0.537366        0.033681   \n",
       "surname_Master.      -0.108706    -0.246287     -0.085943       -0.052301   \n",
       "surname_Miss.         1.000000    -0.569592     -0.198762       -0.120956   \n",
       "surname_Mr.          -0.569592     1.000000     -0.450323       -0.274043   \n",
       "surname_Mrs.         -0.198762    -0.450323      1.000000       -0.095629   \n",
       "surname_others       -0.120956    -0.274043     -0.095629        1.000000   \n",
       "Age                  -0.238978     0.160795      0.177413        0.132751   \n",
       "SibSp                 0.084842    -0.243413      0.058607       -0.025137   \n",
       "sur                   0.329999    -0.529008      0.340572       -0.018304   \n",
       "\n",
       "                      Age     SibSp       sur  \n",
       "Pclass          -0.356187  0.083081 -0.338481  \n",
       "Sex_female      -0.073377  0.114631  0.543351  \n",
       "Sex_male         0.073377 -0.114631 -0.543351  \n",
       "surname_Master. -0.362378  0.349559  0.085221  \n",
       "surname_Miss.   -0.238978  0.084842  0.329999  \n",
       "surname_Mr.      0.160795 -0.243413 -0.529008  \n",
       "surname_Mrs.     0.177413  0.058607  0.340572  \n",
       "surname_others   0.132751 -0.025137 -0.018304  \n",
       "Age              1.000000 -0.232411 -0.052872  \n",
       "SibSp           -0.232411  1.000000 -0.035322  \n",
       "sur             -0.052872 -0.035322  1.000000  "
      ]
     },
     "execution_count": 19,
     "metadata": {},
     "output_type": "execute_result"
    }
   ],
   "source": [
    "x['sur']=data['Survived']\n",
    "x.corr()"
   ]
  },
  {
   "cell_type": "code",
   "execution_count": 20,
   "id": "cf63ebe1",
   "metadata": {
    "execution": {
     "iopub.execute_input": "2023-12-22T12:39:16.253894Z",
     "iopub.status.busy": "2023-12-22T12:39:16.253542Z",
     "iopub.status.idle": "2023-12-22T12:39:16.264048Z",
     "shell.execute_reply": "2023-12-22T12:39:16.263028Z"
    },
    "papermill": {
     "duration": 0.025502,
     "end_time": "2023-12-22T12:39:16.266133",
     "exception": false,
     "start_time": "2023-12-22T12:39:16.240631",
     "status": "completed"
    },
    "tags": []
   },
   "outputs": [
    {
     "data": {
      "text/plain": [
       "0      0\n",
       "1      1\n",
       "2      1\n",
       "3      1\n",
       "4      0\n",
       "      ..\n",
       "886    0\n",
       "887    1\n",
       "888    0\n",
       "889    1\n",
       "890    0\n",
       "Name: sur, Length: 891, dtype: int64"
      ]
     },
     "execution_count": 20,
     "metadata": {},
     "output_type": "execute_result"
    }
   ],
   "source": [
    "x['Parch']=data['Parch']\n",
    "test_x['Parch']=data['Parch']\n",
    "x.pop('sur')"
   ]
  },
  {
   "cell_type": "code",
   "execution_count": 21,
   "id": "e468668c",
   "metadata": {
    "execution": {
     "iopub.execute_input": "2023-12-22T12:39:16.292622Z",
     "iopub.status.busy": "2023-12-22T12:39:16.291724Z",
     "iopub.status.idle": "2023-12-22T12:39:16.308400Z",
     "shell.execute_reply": "2023-12-22T12:39:16.307395Z"
    },
    "papermill": {
     "duration": 0.031965,
     "end_time": "2023-12-22T12:39:16.310618",
     "exception": false,
     "start_time": "2023-12-22T12:39:16.278653",
     "status": "completed"
    },
    "tags": []
   },
   "outputs": [
    {
     "data": {
      "text/html": [
       "<div>\n",
       "<style scoped>\n",
       "    .dataframe tbody tr th:only-of-type {\n",
       "        vertical-align: middle;\n",
       "    }\n",
       "\n",
       "    .dataframe tbody tr th {\n",
       "        vertical-align: top;\n",
       "    }\n",
       "\n",
       "    .dataframe thead th {\n",
       "        text-align: right;\n",
       "    }\n",
       "</style>\n",
       "<table border=\"1\" class=\"dataframe\">\n",
       "  <thead>\n",
       "    <tr style=\"text-align: right;\">\n",
       "      <th></th>\n",
       "      <th>Pclass</th>\n",
       "      <th>Sex_female</th>\n",
       "      <th>Sex_male</th>\n",
       "      <th>surname_Master.</th>\n",
       "      <th>surname_Miss.</th>\n",
       "      <th>surname_Mr.</th>\n",
       "      <th>surname_Mrs.</th>\n",
       "      <th>surname_others</th>\n",
       "      <th>Age</th>\n",
       "      <th>SibSp</th>\n",
       "      <th>Parch</th>\n",
       "    </tr>\n",
       "  </thead>\n",
       "  <tbody>\n",
       "    <tr>\n",
       "      <th>0</th>\n",
       "      <td>3</td>\n",
       "      <td>False</td>\n",
       "      <td>True</td>\n",
       "      <td>False</td>\n",
       "      <td>False</td>\n",
       "      <td>True</td>\n",
       "      <td>False</td>\n",
       "      <td>False</td>\n",
       "      <td>34.5</td>\n",
       "      <td>0</td>\n",
       "      <td>0</td>\n",
       "    </tr>\n",
       "    <tr>\n",
       "      <th>1</th>\n",
       "      <td>3</td>\n",
       "      <td>True</td>\n",
       "      <td>False</td>\n",
       "      <td>False</td>\n",
       "      <td>False</td>\n",
       "      <td>False</td>\n",
       "      <td>True</td>\n",
       "      <td>False</td>\n",
       "      <td>47.0</td>\n",
       "      <td>1</td>\n",
       "      <td>0</td>\n",
       "    </tr>\n",
       "    <tr>\n",
       "      <th>2</th>\n",
       "      <td>2</td>\n",
       "      <td>False</td>\n",
       "      <td>True</td>\n",
       "      <td>False</td>\n",
       "      <td>False</td>\n",
       "      <td>True</td>\n",
       "      <td>False</td>\n",
       "      <td>False</td>\n",
       "      <td>62.0</td>\n",
       "      <td>0</td>\n",
       "      <td>0</td>\n",
       "    </tr>\n",
       "    <tr>\n",
       "      <th>3</th>\n",
       "      <td>3</td>\n",
       "      <td>False</td>\n",
       "      <td>True</td>\n",
       "      <td>False</td>\n",
       "      <td>False</td>\n",
       "      <td>True</td>\n",
       "      <td>False</td>\n",
       "      <td>False</td>\n",
       "      <td>27.0</td>\n",
       "      <td>0</td>\n",
       "      <td>0</td>\n",
       "    </tr>\n",
       "    <tr>\n",
       "      <th>4</th>\n",
       "      <td>3</td>\n",
       "      <td>True</td>\n",
       "      <td>False</td>\n",
       "      <td>False</td>\n",
       "      <td>False</td>\n",
       "      <td>False</td>\n",
       "      <td>True</td>\n",
       "      <td>False</td>\n",
       "      <td>22.0</td>\n",
       "      <td>1</td>\n",
       "      <td>0</td>\n",
       "    </tr>\n",
       "  </tbody>\n",
       "</table>\n",
       "</div>"
      ],
      "text/plain": [
       "   Pclass  Sex_female  Sex_male  surname_Master.  surname_Miss.  surname_Mr.  \\\n",
       "0       3       False      True            False          False         True   \n",
       "1       3        True     False            False          False        False   \n",
       "2       2       False      True            False          False         True   \n",
       "3       3       False      True            False          False         True   \n",
       "4       3        True     False            False          False        False   \n",
       "\n",
       "   surname_Mrs.  surname_others   Age  SibSp  Parch  \n",
       "0         False           False  34.5      0      0  \n",
       "1          True           False  47.0      1      0  \n",
       "2         False           False  62.0      0      0  \n",
       "3         False           False  27.0      0      0  \n",
       "4          True           False  22.0      1      0  "
      ]
     },
     "execution_count": 21,
     "metadata": {},
     "output_type": "execute_result"
    }
   ],
   "source": [
    "x.head()\n",
    "test_x.head()\n"
   ]
  },
  {
   "cell_type": "code",
   "execution_count": 22,
   "id": "88c014bd",
   "metadata": {
    "execution": {
     "iopub.execute_input": "2023-12-22T12:39:16.336697Z",
     "iopub.status.busy": "2023-12-22T12:39:16.336326Z",
     "iopub.status.idle": "2023-12-22T12:39:16.412071Z",
     "shell.execute_reply": "2023-12-22T12:39:16.411228Z"
    },
    "papermill": {
     "duration": 0.091972,
     "end_time": "2023-12-22T12:39:16.414670",
     "exception": false,
     "start_time": "2023-12-22T12:39:16.322698",
     "status": "completed"
    },
    "tags": []
   },
   "outputs": [
    {
     "data": {
      "text/plain": [
       "(418, 11)"
      ]
     },
     "execution_count": 22,
     "metadata": {},
     "output_type": "execute_result"
    }
   ],
   "source": [
    "model_1 = XGBClassifier (n_estimators=50, learning_rate=0.05, n_jobs=4)\n",
    "model_1.fit(x,y)\n",
    "predictions_1 = model_1.predict(test_x)\n",
    "test_x.shape"
   ]
  },
  {
   "cell_type": "code",
   "execution_count": 23,
   "id": "8f558acc",
   "metadata": {
    "execution": {
     "iopub.execute_input": "2023-12-22T12:39:16.444843Z",
     "iopub.status.busy": "2023-12-22T12:39:16.443733Z",
     "iopub.status.idle": "2023-12-22T12:39:16.454750Z",
     "shell.execute_reply": "2023-12-22T12:39:16.453703Z"
    },
    "papermill": {
     "duration": 0.028478,
     "end_time": "2023-12-22T12:39:16.457489",
     "exception": false,
     "start_time": "2023-12-22T12:39:16.429011",
     "status": "completed"
    },
    "tags": []
   },
   "outputs": [
    {
     "name": "stdout",
     "output_type": "stream",
     "text": [
      "Your submission was successfully saved!\n"
     ]
    }
   ],
   "source": [
    "output = pd.DataFrame({'PassengerId': test.PassengerId, 'Survived': predictions_1})\n",
    "output.to_csv('submission.csv', index=False)\n",
    "print(\"Your submission was successfully saved!\")"
   ]
  },
  {
   "cell_type": "code",
   "execution_count": null,
   "id": "b422b0fa",
   "metadata": {
    "papermill": {
     "duration": 0.012619,
     "end_time": "2023-12-22T12:39:16.483588",
     "exception": false,
     "start_time": "2023-12-22T12:39:16.470969",
     "status": "completed"
    },
    "tags": []
   },
   "outputs": [],
   "source": []
  },
  {
   "cell_type": "code",
   "execution_count": null,
   "id": "a9911314",
   "metadata": {
    "papermill": {
     "duration": 0.012751,
     "end_time": "2023-12-22T12:39:16.508925",
     "exception": false,
     "start_time": "2023-12-22T12:39:16.496174",
     "status": "completed"
    },
    "tags": []
   },
   "outputs": [],
   "source": []
  },
  {
   "cell_type": "code",
   "execution_count": null,
   "id": "df1b3cb0",
   "metadata": {
    "papermill": {
     "duration": 0.012108,
     "end_time": "2023-12-22T12:39:16.534076",
     "exception": false,
     "start_time": "2023-12-22T12:39:16.521968",
     "status": "completed"
    },
    "tags": []
   },
   "outputs": [],
   "source": []
  }
 ],
 "metadata": {
  "kaggle": {
   "accelerator": "none",
   "dataSources": [
    {
     "databundleVersionId": 26502,
     "sourceId": 3136,
     "sourceType": "competition"
    }
   ],
   "dockerImageVersionId": 30558,
   "isGpuEnabled": false,
   "isInternetEnabled": true,
   "language": "python",
   "sourceType": "notebook"
  },
  "kernelspec": {
   "display_name": "Python 3",
   "language": "python",
   "name": "python3"
  },
  "language_info": {
   "codemirror_mode": {
    "name": "ipython",
    "version": 3
   },
   "file_extension": ".py",
   "mimetype": "text/x-python",
   "name": "python",
   "nbconvert_exporter": "python",
   "pygments_lexer": "ipython3",
   "version": "3.10.12"
  },
  "papermill": {
   "default_parameters": {},
   "duration": 24.877243,
   "end_time": "2023-12-22T12:39:19.257673",
   "environment_variables": {},
   "exception": null,
   "input_path": "__notebook__.ipynb",
   "output_path": "__notebook__.ipynb",
   "parameters": {},
   "start_time": "2023-12-22T12:38:54.380430",
   "version": "2.4.0"
  }
 },
 "nbformat": 4,
 "nbformat_minor": 5
}
