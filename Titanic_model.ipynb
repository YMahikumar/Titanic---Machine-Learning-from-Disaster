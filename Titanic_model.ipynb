{
 "cells": [
  {
   "cell_type": "code",
   "execution_count": 1,
   "id": "94f22d8e",
   "metadata": {
    "_cell_guid": "b1076dfc-b9ad-4769-8c92-a6c4dae69d19",
    "_uuid": "8f2839f25d086af736a60e9eeb907d3b93b6e0e5",
    "execution": {
     "iopub.execute_input": "2023-10-12T08:41:03.357921Z",
     "iopub.status.busy": "2023-10-12T08:41:03.357349Z",
     "iopub.status.idle": "2023-10-12T08:41:05.667330Z",
     "shell.execute_reply": "2023-10-12T08:41:05.666171Z"
    },
    "papermill": {
     "duration": 2.3194,
     "end_time": "2023-10-12T08:41:05.669761",
     "exception": false,
     "start_time": "2023-10-12T08:41:03.350361",
     "status": "completed"
    },
    "tags": []
   },
   "outputs": [
    {
     "name": "stdout",
     "output_type": "stream",
     "text": [
      "/kaggle/input/titanic/train.csv\n",
      "/kaggle/input/titanic/test.csv\n",
      "/kaggle/input/titanic/gender_submission.csv\n"
     ]
    }
   ],
   "source": [
    "# This Python 3 environment comes with many helpful analytics libraries installed\n",
    "# It is defined by the kaggle/python Docker image: https://github.com/kaggle/docker-python\n",
    "# For example, here's several helpful packages to load\n",
    "\n",
    "import numpy as np # linear algebra\n",
    "import pandas as pd # data processing, CSV file I/O (e.g. pd.read_csv)\n",
    "import matplotlib.pyplot as plt\n",
    "from sklearn.model_selection import train_test_split\n",
    "import seaborn as sns\n",
    "\n",
    "# Input data files are available in the read-only \"../input/\" directory\n",
    "# For example, running this (by clicking run or pressing Shift+Enter) will list all files under the input directory\n",
    "\n",
    "import os\n",
    "for dirname, _, filenames in os.walk('/kaggle/input'):\n",
    "    for filename in filenames:\n",
    "        print(os.path.join(dirname, filename))\n",
    "\n",
    "# You can write up to 20GB to the current directory (/kaggle/working/) that gets preserved as output when you create a version using \"Save & Run All\" \n",
    "# You can also write temporary files to /kaggle/temp/, but they won't be saved outside of the current session"
   ]
  },
  {
   "cell_type": "code",
   "execution_count": 2,
   "id": "79cf326f",
   "metadata": {
    "execution": {
     "iopub.execute_input": "2023-10-12T08:41:05.682106Z",
     "iopub.status.busy": "2023-10-12T08:41:05.681294Z",
     "iopub.status.idle": "2023-10-12T08:41:05.717831Z",
     "shell.execute_reply": "2023-10-12T08:41:05.716570Z"
    },
    "papermill": {
     "duration": 0.045165,
     "end_time": "2023-10-12T08:41:05.720196",
     "exception": false,
     "start_time": "2023-10-12T08:41:05.675031",
     "status": "completed"
    },
    "tags": []
   },
   "outputs": [],
   "source": [
    "data=pd.read_csv('/kaggle/input/titanic/train.csv')\n",
    "test=pd.read_csv('/kaggle/input/titanic/test.csv')\n",
    "gender=pd.read_csv('/kaggle/input/titanic/gender_submission.csv')"
   ]
  },
  {
   "cell_type": "code",
   "execution_count": 3,
   "id": "b4ae086b",
   "metadata": {
    "execution": {
     "iopub.execute_input": "2023-10-12T08:41:05.732229Z",
     "iopub.status.busy": "2023-10-12T08:41:05.731079Z",
     "iopub.status.idle": "2023-10-12T08:41:05.738721Z",
     "shell.execute_reply": "2023-10-12T08:41:05.737588Z"
    },
    "papermill": {
     "duration": 0.01599,
     "end_time": "2023-10-12T08:41:05.741178",
     "exception": false,
     "start_time": "2023-10-12T08:41:05.725188",
     "status": "completed"
    },
    "tags": []
   },
   "outputs": [
    {
     "data": {
      "text/plain": [
       "(891, 12)"
      ]
     },
     "execution_count": 3,
     "metadata": {},
     "output_type": "execute_result"
    }
   ],
   "source": [
    "data.shape"
   ]
  },
  {
   "cell_type": "code",
   "execution_count": 4,
   "id": "ed289233",
   "metadata": {
    "execution": {
     "iopub.execute_input": "2023-10-12T08:41:05.753822Z",
     "iopub.status.busy": "2023-10-12T08:41:05.752647Z",
     "iopub.status.idle": "2023-10-12T08:41:05.777835Z",
     "shell.execute_reply": "2023-10-12T08:41:05.776718Z"
    },
    "papermill": {
     "duration": 0.033902,
     "end_time": "2023-10-12T08:41:05.780314",
     "exception": false,
     "start_time": "2023-10-12T08:41:05.746412",
     "status": "completed"
    },
    "tags": []
   },
   "outputs": [
    {
     "data": {
      "text/html": [
       "<div>\n",
       "<style scoped>\n",
       "    .dataframe tbody tr th:only-of-type {\n",
       "        vertical-align: middle;\n",
       "    }\n",
       "\n",
       "    .dataframe tbody tr th {\n",
       "        vertical-align: top;\n",
       "    }\n",
       "\n",
       "    .dataframe thead th {\n",
       "        text-align: right;\n",
       "    }\n",
       "</style>\n",
       "<table border=\"1\" class=\"dataframe\">\n",
       "  <thead>\n",
       "    <tr style=\"text-align: right;\">\n",
       "      <th></th>\n",
       "      <th>PassengerId</th>\n",
       "      <th>Survived</th>\n",
       "      <th>Pclass</th>\n",
       "      <th>Name</th>\n",
       "      <th>Sex</th>\n",
       "      <th>Age</th>\n",
       "      <th>SibSp</th>\n",
       "      <th>Parch</th>\n",
       "      <th>Ticket</th>\n",
       "      <th>Fare</th>\n",
       "      <th>Cabin</th>\n",
       "      <th>Embarked</th>\n",
       "    </tr>\n",
       "  </thead>\n",
       "  <tbody>\n",
       "    <tr>\n",
       "      <th>0</th>\n",
       "      <td>1</td>\n",
       "      <td>0</td>\n",
       "      <td>3</td>\n",
       "      <td>Braund, Mr. Owen Harris</td>\n",
       "      <td>male</td>\n",
       "      <td>22.0</td>\n",
       "      <td>1</td>\n",
       "      <td>0</td>\n",
       "      <td>A/5 21171</td>\n",
       "      <td>7.2500</td>\n",
       "      <td>NaN</td>\n",
       "      <td>S</td>\n",
       "    </tr>\n",
       "    <tr>\n",
       "      <th>1</th>\n",
       "      <td>2</td>\n",
       "      <td>1</td>\n",
       "      <td>1</td>\n",
       "      <td>Cumings, Mrs. John Bradley (Florence Briggs Th...</td>\n",
       "      <td>female</td>\n",
       "      <td>38.0</td>\n",
       "      <td>1</td>\n",
       "      <td>0</td>\n",
       "      <td>PC 17599</td>\n",
       "      <td>71.2833</td>\n",
       "      <td>C85</td>\n",
       "      <td>C</td>\n",
       "    </tr>\n",
       "    <tr>\n",
       "      <th>2</th>\n",
       "      <td>3</td>\n",
       "      <td>1</td>\n",
       "      <td>3</td>\n",
       "      <td>Heikkinen, Miss. Laina</td>\n",
       "      <td>female</td>\n",
       "      <td>26.0</td>\n",
       "      <td>0</td>\n",
       "      <td>0</td>\n",
       "      <td>STON/O2. 3101282</td>\n",
       "      <td>7.9250</td>\n",
       "      <td>NaN</td>\n",
       "      <td>S</td>\n",
       "    </tr>\n",
       "    <tr>\n",
       "      <th>3</th>\n",
       "      <td>4</td>\n",
       "      <td>1</td>\n",
       "      <td>1</td>\n",
       "      <td>Futrelle, Mrs. Jacques Heath (Lily May Peel)</td>\n",
       "      <td>female</td>\n",
       "      <td>35.0</td>\n",
       "      <td>1</td>\n",
       "      <td>0</td>\n",
       "      <td>113803</td>\n",
       "      <td>53.1000</td>\n",
       "      <td>C123</td>\n",
       "      <td>S</td>\n",
       "    </tr>\n",
       "    <tr>\n",
       "      <th>4</th>\n",
       "      <td>5</td>\n",
       "      <td>0</td>\n",
       "      <td>3</td>\n",
       "      <td>Allen, Mr. William Henry</td>\n",
       "      <td>male</td>\n",
       "      <td>35.0</td>\n",
       "      <td>0</td>\n",
       "      <td>0</td>\n",
       "      <td>373450</td>\n",
       "      <td>8.0500</td>\n",
       "      <td>NaN</td>\n",
       "      <td>S</td>\n",
       "    </tr>\n",
       "  </tbody>\n",
       "</table>\n",
       "</div>"
      ],
      "text/plain": [
       "   PassengerId  Survived  Pclass  \\\n",
       "0            1         0       3   \n",
       "1            2         1       1   \n",
       "2            3         1       3   \n",
       "3            4         1       1   \n",
       "4            5         0       3   \n",
       "\n",
       "                                                Name     Sex   Age  SibSp  \\\n",
       "0                            Braund, Mr. Owen Harris    male  22.0      1   \n",
       "1  Cumings, Mrs. John Bradley (Florence Briggs Th...  female  38.0      1   \n",
       "2                             Heikkinen, Miss. Laina  female  26.0      0   \n",
       "3       Futrelle, Mrs. Jacques Heath (Lily May Peel)  female  35.0      1   \n",
       "4                           Allen, Mr. William Henry    male  35.0      0   \n",
       "\n",
       "   Parch            Ticket     Fare Cabin Embarked  \n",
       "0      0         A/5 21171   7.2500   NaN        S  \n",
       "1      0          PC 17599  71.2833   C85        C  \n",
       "2      0  STON/O2. 3101282   7.9250   NaN        S  \n",
       "3      0            113803  53.1000  C123        S  \n",
       "4      0            373450   8.0500   NaN        S  "
      ]
     },
     "execution_count": 4,
     "metadata": {},
     "output_type": "execute_result"
    }
   ],
   "source": [
    "data.head()"
   ]
  },
  {
   "cell_type": "code",
   "execution_count": 5,
   "id": "ee6d980e",
   "metadata": {
    "execution": {
     "iopub.execute_input": "2023-10-12T08:41:05.792615Z",
     "iopub.status.busy": "2023-10-12T08:41:05.792141Z",
     "iopub.status.idle": "2023-10-12T08:41:05.806231Z",
     "shell.execute_reply": "2023-10-12T08:41:05.805082Z"
    },
    "papermill": {
     "duration": 0.022843,
     "end_time": "2023-10-12T08:41:05.808378",
     "exception": false,
     "start_time": "2023-10-12T08:41:05.785535",
     "status": "completed"
    },
    "tags": []
   },
   "outputs": [
    {
     "data": {
      "text/html": [
       "<div>\n",
       "<style scoped>\n",
       "    .dataframe tbody tr th:only-of-type {\n",
       "        vertical-align: middle;\n",
       "    }\n",
       "\n",
       "    .dataframe tbody tr th {\n",
       "        vertical-align: top;\n",
       "    }\n",
       "\n",
       "    .dataframe thead th {\n",
       "        text-align: right;\n",
       "    }\n",
       "</style>\n",
       "<table border=\"1\" class=\"dataframe\">\n",
       "  <thead>\n",
       "    <tr style=\"text-align: right;\">\n",
       "      <th></th>\n",
       "      <th>PassengerId</th>\n",
       "      <th>Pclass</th>\n",
       "      <th>Name</th>\n",
       "      <th>Sex</th>\n",
       "      <th>Age</th>\n",
       "      <th>SibSp</th>\n",
       "      <th>Parch</th>\n",
       "      <th>Ticket</th>\n",
       "      <th>Fare</th>\n",
       "      <th>Cabin</th>\n",
       "      <th>Embarked</th>\n",
       "    </tr>\n",
       "  </thead>\n",
       "  <tbody>\n",
       "    <tr>\n",
       "      <th>0</th>\n",
       "      <td>892</td>\n",
       "      <td>3</td>\n",
       "      <td>Kelly, Mr. James</td>\n",
       "      <td>male</td>\n",
       "      <td>34.5</td>\n",
       "      <td>0</td>\n",
       "      <td>0</td>\n",
       "      <td>330911</td>\n",
       "      <td>7.8292</td>\n",
       "      <td>NaN</td>\n",
       "      <td>Q</td>\n",
       "    </tr>\n",
       "    <tr>\n",
       "      <th>1</th>\n",
       "      <td>893</td>\n",
       "      <td>3</td>\n",
       "      <td>Wilkes, Mrs. James (Ellen Needs)</td>\n",
       "      <td>female</td>\n",
       "      <td>47.0</td>\n",
       "      <td>1</td>\n",
       "      <td>0</td>\n",
       "      <td>363272</td>\n",
       "      <td>7.0000</td>\n",
       "      <td>NaN</td>\n",
       "      <td>S</td>\n",
       "    </tr>\n",
       "    <tr>\n",
       "      <th>2</th>\n",
       "      <td>894</td>\n",
       "      <td>2</td>\n",
       "      <td>Myles, Mr. Thomas Francis</td>\n",
       "      <td>male</td>\n",
       "      <td>62.0</td>\n",
       "      <td>0</td>\n",
       "      <td>0</td>\n",
       "      <td>240276</td>\n",
       "      <td>9.6875</td>\n",
       "      <td>NaN</td>\n",
       "      <td>Q</td>\n",
       "    </tr>\n",
       "    <tr>\n",
       "      <th>3</th>\n",
       "      <td>895</td>\n",
       "      <td>3</td>\n",
       "      <td>Wirz, Mr. Albert</td>\n",
       "      <td>male</td>\n",
       "      <td>27.0</td>\n",
       "      <td>0</td>\n",
       "      <td>0</td>\n",
       "      <td>315154</td>\n",
       "      <td>8.6625</td>\n",
       "      <td>NaN</td>\n",
       "      <td>S</td>\n",
       "    </tr>\n",
       "    <tr>\n",
       "      <th>4</th>\n",
       "      <td>896</td>\n",
       "      <td>3</td>\n",
       "      <td>Hirvonen, Mrs. Alexander (Helga E Lindqvist)</td>\n",
       "      <td>female</td>\n",
       "      <td>22.0</td>\n",
       "      <td>1</td>\n",
       "      <td>1</td>\n",
       "      <td>3101298</td>\n",
       "      <td>12.2875</td>\n",
       "      <td>NaN</td>\n",
       "      <td>S</td>\n",
       "    </tr>\n",
       "  </tbody>\n",
       "</table>\n",
       "</div>"
      ],
      "text/plain": [
       "   PassengerId  Pclass                                          Name     Sex  \\\n",
       "0          892       3                              Kelly, Mr. James    male   \n",
       "1          893       3              Wilkes, Mrs. James (Ellen Needs)  female   \n",
       "2          894       2                     Myles, Mr. Thomas Francis    male   \n",
       "3          895       3                              Wirz, Mr. Albert    male   \n",
       "4          896       3  Hirvonen, Mrs. Alexander (Helga E Lindqvist)  female   \n",
       "\n",
       "    Age  SibSp  Parch   Ticket     Fare Cabin Embarked  \n",
       "0  34.5      0      0   330911   7.8292   NaN        Q  \n",
       "1  47.0      1      0   363272   7.0000   NaN        S  \n",
       "2  62.0      0      0   240276   9.6875   NaN        Q  \n",
       "3  27.0      0      0   315154   8.6625   NaN        S  \n",
       "4  22.0      1      1  3101298  12.2875   NaN        S  "
      ]
     },
     "execution_count": 5,
     "metadata": {},
     "output_type": "execute_result"
    }
   ],
   "source": [
    "test.head()"
   ]
  },
  {
   "cell_type": "code",
   "execution_count": 6,
   "id": "2ba205b1",
   "metadata": {
    "execution": {
     "iopub.execute_input": "2023-10-12T08:41:05.820955Z",
     "iopub.status.busy": "2023-10-12T08:41:05.820515Z",
     "iopub.status.idle": "2023-10-12T08:41:05.829657Z",
     "shell.execute_reply": "2023-10-12T08:41:05.828591Z"
    },
    "papermill": {
     "duration": 0.017814,
     "end_time": "2023-10-12T08:41:05.831597",
     "exception": false,
     "start_time": "2023-10-12T08:41:05.813783",
     "status": "completed"
    },
    "tags": []
   },
   "outputs": [
    {
     "data": {
      "text/html": [
       "<div>\n",
       "<style scoped>\n",
       "    .dataframe tbody tr th:only-of-type {\n",
       "        vertical-align: middle;\n",
       "    }\n",
       "\n",
       "    .dataframe tbody tr th {\n",
       "        vertical-align: top;\n",
       "    }\n",
       "\n",
       "    .dataframe thead th {\n",
       "        text-align: right;\n",
       "    }\n",
       "</style>\n",
       "<table border=\"1\" class=\"dataframe\">\n",
       "  <thead>\n",
       "    <tr style=\"text-align: right;\">\n",
       "      <th></th>\n",
       "      <th>PassengerId</th>\n",
       "      <th>Survived</th>\n",
       "    </tr>\n",
       "  </thead>\n",
       "  <tbody>\n",
       "    <tr>\n",
       "      <th>0</th>\n",
       "      <td>892</td>\n",
       "      <td>0</td>\n",
       "    </tr>\n",
       "    <tr>\n",
       "      <th>1</th>\n",
       "      <td>893</td>\n",
       "      <td>1</td>\n",
       "    </tr>\n",
       "    <tr>\n",
       "      <th>2</th>\n",
       "      <td>894</td>\n",
       "      <td>0</td>\n",
       "    </tr>\n",
       "    <tr>\n",
       "      <th>3</th>\n",
       "      <td>895</td>\n",
       "      <td>0</td>\n",
       "    </tr>\n",
       "    <tr>\n",
       "      <th>4</th>\n",
       "      <td>896</td>\n",
       "      <td>1</td>\n",
       "    </tr>\n",
       "  </tbody>\n",
       "</table>\n",
       "</div>"
      ],
      "text/plain": [
       "   PassengerId  Survived\n",
       "0          892         0\n",
       "1          893         1\n",
       "2          894         0\n",
       "3          895         0\n",
       "4          896         1"
      ]
     },
     "execution_count": 6,
     "metadata": {},
     "output_type": "execute_result"
    }
   ],
   "source": [
    "gender.head()"
   ]
  },
  {
   "cell_type": "code",
   "execution_count": 7,
   "id": "942e7e72",
   "metadata": {
    "execution": {
     "iopub.execute_input": "2023-10-12T08:41:05.844762Z",
     "iopub.status.busy": "2023-10-12T08:41:05.844156Z",
     "iopub.status.idle": "2023-10-12T08:41:05.856864Z",
     "shell.execute_reply": "2023-10-12T08:41:05.855706Z"
    },
    "papermill": {
     "duration": 0.021955,
     "end_time": "2023-10-12T08:41:05.859066",
     "exception": false,
     "start_time": "2023-10-12T08:41:05.837111",
     "status": "completed"
    },
    "tags": []
   },
   "outputs": [
    {
     "data": {
      "text/plain": [
       "Survived\n",
       "0    549\n",
       "1    342\n",
       "Name: count, dtype: int64"
      ]
     },
     "execution_count": 7,
     "metadata": {},
     "output_type": "execute_result"
    }
   ],
   "source": [
    "data['Survived'].value_counts()"
   ]
  },
  {
   "cell_type": "code",
   "execution_count": 8,
   "id": "99f33e5a",
   "metadata": {
    "execution": {
     "iopub.execute_input": "2023-10-12T08:41:05.872720Z",
     "iopub.status.busy": "2023-10-12T08:41:05.871630Z",
     "iopub.status.idle": "2023-10-12T08:41:06.118472Z",
     "shell.execute_reply": "2023-10-12T08:41:06.117346Z"
    },
    "papermill": {
     "duration": 0.256204,
     "end_time": "2023-10-12T08:41:06.120948",
     "exception": false,
     "start_time": "2023-10-12T08:41:05.864744",
     "status": "completed"
    },
    "tags": []
   },
   "outputs": [
    {
     "data": {
      "text/plain": [
       "<BarContainer object of 2 artists>"
      ]
     },
     "execution_count": 8,
     "metadata": {},
     "output_type": "execute_result"
    },
    {
     "data": {
      "image/png": "[encoded data removed]",
      "text/plain": [
       "<Figure size 300x300 with 1 Axes>"
      ]
     },
     "metadata": {},
     "output_type": "display_data"
    }
   ],
   "source": [
    "plt.figure(figsize=(3,3))\n",
    "plt.bar(list(data['Survived'].value_counts().keys()),list(data['Survived'].value_counts()),color='r')"
   ]
  },
  {
   "cell_type": "code",
   "execution_count": 9,
   "id": "ad8a7e7d",
   "metadata": {
    "execution": {
     "iopub.execute_input": "2023-10-12T08:41:06.135462Z",
     "iopub.status.busy": "2023-10-12T08:41:06.134040Z",
     "iopub.status.idle": "2023-10-12T08:41:06.143011Z",
     "shell.execute_reply": "2023-10-12T08:41:06.141836Z"
    },
    "papermill": {
     "duration": 0.018598,
     "end_time": "2023-10-12T08:41:06.145282",
     "exception": false,
     "start_time": "2023-10-12T08:41:06.126684",
     "status": "completed"
    },
    "tags": []
   },
   "outputs": [
    {
     "data": {
      "text/plain": [
       "Pclass\n",
       "3    491\n",
       "1    216\n",
       "2    184\n",
       "Name: count, dtype: int64"
      ]
     },
     "execution_count": 9,
     "metadata": {},
     "output_type": "execute_result"
    }
   ],
   "source": [
    "data['Pclass'].value_counts()"
   ]
  },
  {
   "cell_type": "code",
   "execution_count": 10,
   "id": "6727f2bc",
   "metadata": {
    "execution": {
     "iopub.execute_input": "2023-10-12T08:41:06.159235Z",
     "iopub.status.busy": "2023-10-12T08:41:06.158818Z",
     "iopub.status.idle": "2023-10-12T08:41:06.420394Z",
     "shell.execute_reply": "2023-10-12T08:41:06.419146Z"
    },
    "papermill": {
     "duration": 0.271224,
     "end_time": "2023-10-12T08:41:06.422837",
     "exception": false,
     "start_time": "2023-10-12T08:41:06.151613",
     "status": "completed"
    },
    "tags": []
   },
   "outputs": [
    {
     "data": {
      "text/plain": [
       "<Axes: xlabel='Sex', ylabel='Survived'>"
      ]
     },
     "execution_count": 10,
     "metadata": {},
     "output_type": "execute_result"
    },
    {
     "data": {
      "image/png": "[encoded data removed]",
      "text/plain": [
       "<Figure size 300x300 with 1 Axes>"
      ]
     },
     "metadata": {},
     "output_type": "display_data"
    }
   ],
   "source": [
    "plt.figure(figsize=(3,3))\n",
    "sns.barplot(x=data.Sex, y=data.Survived)\n"
   ]
  },
  {
   "cell_type": "code",
   "execution_count": 11,
   "id": "0f92021f",
   "metadata": {
    "execution": {
     "iopub.execute_input": "2023-10-12T08:41:06.436962Z",
     "iopub.status.busy": "2023-10-12T08:41:06.436568Z",
     "iopub.status.idle": "2023-10-12T08:41:06.732120Z",
     "shell.execute_reply": "2023-10-12T08:41:06.730964Z"
    },
    "papermill": {
     "duration": 0.306005,
     "end_time": "2023-10-12T08:41:06.735038",
     "exception": false,
     "start_time": "2023-10-12T08:41:06.429033",
     "status": "completed"
    },
    "tags": []
   },
   "outputs": [
    {
     "data": {
      "text/plain": [
       "<Axes: xlabel='Pclass', ylabel='Survived'>"
      ]
     },
     "execution_count": 11,
     "metadata": {},
     "output_type": "execute_result"
    },
    {
     "data": {
      "image/png": "[encoded data removed]",
      "text/plain": [
       "<Figure size 300x300 with 1 Axes>"
      ]
     },
     "metadata": {},
     "output_type": "display_data"
    }
   ],
   "source": [
    "plt.figure(figsize=(3,3))\n",
    "\n",
    "sns.barplot(x=data.Pclass, y=data.Survived)\n"
   ]
  },
  {
   "cell_type": "code",
   "execution_count": 12,
   "id": "2837dbb9",
   "metadata": {
    "execution": {
     "iopub.execute_input": "2023-10-12T08:41:06.751136Z",
     "iopub.status.busy": "2023-10-12T08:41:06.749988Z",
     "iopub.status.idle": "2023-10-12T08:41:06.757803Z",
     "shell.execute_reply": "2023-10-12T08:41:06.756797Z"
    },
    "papermill": {
     "duration": 0.017905,
     "end_time": "2023-10-12T08:41:06.759883",
     "exception": false,
     "start_time": "2023-10-12T08:41:06.741978",
     "status": "completed"
    },
    "tags": []
   },
   "outputs": [
    {
     "data": {
      "text/plain": [
       "0"
      ]
     },
     "execution_count": 12,
     "metadata": {},
     "output_type": "execute_result"
    }
   ],
   "source": [
    "sum(data['Pclass'].isnull())"
   ]
  },
  {
   "cell_type": "code",
   "execution_count": 13,
   "id": "0552ae74",
   "metadata": {
    "execution": {
     "iopub.execute_input": "2023-10-12T08:41:06.774760Z",
     "iopub.status.busy": "2023-10-12T08:41:06.774354Z",
     "iopub.status.idle": "2023-10-12T08:41:06.781039Z",
     "shell.execute_reply": "2023-10-12T08:41:06.779913Z"
    },
    "papermill": {
     "duration": 0.016713,
     "end_time": "2023-10-12T08:41:06.783178",
     "exception": false,
     "start_time": "2023-10-12T08:41:06.766465",
     "status": "completed"
    },
    "tags": []
   },
   "outputs": [
    {
     "data": {
      "text/plain": [
       "0"
      ]
     },
     "execution_count": 13,
     "metadata": {},
     "output_type": "execute_result"
    }
   ],
   "source": [
    "sum(data['SibSp'].isnull())"
   ]
  },
  {
   "cell_type": "code",
   "execution_count": 14,
   "id": "3f059929",
   "metadata": {
    "execution": {
     "iopub.execute_input": "2023-10-12T08:41:06.798738Z",
     "iopub.status.busy": "2023-10-12T08:41:06.798367Z",
     "iopub.status.idle": "2023-10-12T08:41:06.805461Z",
     "shell.execute_reply": "2023-10-12T08:41:06.804335Z"
    },
    "papermill": {
     "duration": 0.017195,
     "end_time": "2023-10-12T08:41:06.807516",
     "exception": false,
     "start_time": "2023-10-12T08:41:06.790321",
     "status": "completed"
    },
    "tags": []
   },
   "outputs": [
    {
     "data": {
      "text/plain": [
       "0"
      ]
     },
     "execution_count": 14,
     "metadata": {},
     "output_type": "execute_result"
    }
   ],
   "source": [
    "sum(data['Parch'].isnull())"
   ]
  },
  {
   "cell_type": "code",
   "execution_count": 15,
   "id": "1a056e53",
   "metadata": {
    "execution": {
     "iopub.execute_input": "2023-10-12T08:41:06.822988Z",
     "iopub.status.busy": "2023-10-12T08:41:06.822632Z",
     "iopub.status.idle": "2023-10-12T08:41:06.829221Z",
     "shell.execute_reply": "2023-10-12T08:41:06.828337Z"
    },
    "papermill": {
     "duration": 0.017048,
     "end_time": "2023-10-12T08:41:06.831432",
     "exception": false,
     "start_time": "2023-10-12T08:41:06.814384",
     "status": "completed"
    },
    "tags": []
   },
   "outputs": [],
   "source": [
    "data= data.dropna(axis=0)"
   ]
  },
  {
   "cell_type": "code",
   "execution_count": 16,
   "id": "0db9d7f5",
   "metadata": {
    "execution": {
     "iopub.execute_input": "2023-10-12T08:41:06.847513Z",
     "iopub.status.busy": "2023-10-12T08:41:06.846169Z",
     "iopub.status.idle": "2023-10-12T08:41:06.856209Z",
     "shell.execute_reply": "2023-10-12T08:41:06.855088Z"
    },
    "papermill": {
     "duration": 0.019969,
     "end_time": "2023-10-12T08:41:06.858282",
     "exception": false,
     "start_time": "2023-10-12T08:41:06.838313",
     "status": "completed"
    },
    "tags": []
   },
   "outputs": [
    {
     "data": {
      "text/plain": [
       "Age\n",
       "36.0    11\n",
       "24.0     9\n",
       "19.0     6\n",
       "35.0     6\n",
       "31.0     5\n",
       "        ..\n",
       "71.0     1\n",
       "3.0      1\n",
       "1.0      1\n",
       "36.5     1\n",
       "26.0     1\n",
       "Name: count, Length: 63, dtype: int64"
      ]
     },
     "execution_count": 16,
     "metadata": {},
     "output_type": "execute_result"
    }
   ],
   "source": [
    "data['Age'].value_counts()"
   ]
  },
  {
   "cell_type": "code",
   "execution_count": 17,
   "id": "787c24a4",
   "metadata": {
    "execution": {
     "iopub.execute_input": "2023-10-12T08:41:06.873706Z",
     "iopub.status.busy": "2023-10-12T08:41:06.873298Z",
     "iopub.status.idle": "2023-10-12T08:41:06.882111Z",
     "shell.execute_reply": "2023-10-12T08:41:06.881077Z"
    },
    "papermill": {
     "duration": 0.018983,
     "end_time": "2023-10-12T08:41:06.884176",
     "exception": false,
     "start_time": "2023-10-12T08:41:06.865193",
     "status": "completed"
    },
    "tags": []
   },
   "outputs": [
    {
     "data": {
      "text/plain": [
       "Pclass\n",
       "1    158\n",
       "2     15\n",
       "3     10\n",
       "Name: count, dtype: int64"
      ]
     },
     "execution_count": 17,
     "metadata": {},
     "output_type": "execute_result"
    }
   ],
   "source": [
    "data['Pclass'].value_counts()"
   ]
  },
  {
   "cell_type": "code",
   "execution_count": 18,
   "id": "0f2ec363",
   "metadata": {
    "execution": {
     "iopub.execute_input": "2023-10-12T08:41:06.899964Z",
     "iopub.status.busy": "2023-10-12T08:41:06.899549Z",
     "iopub.status.idle": "2023-10-12T08:41:07.094089Z",
     "shell.execute_reply": "2023-10-12T08:41:07.092759Z"
    },
    "papermill": {
     "duration": 0.205262,
     "end_time": "2023-10-12T08:41:07.096566",
     "exception": false,
     "start_time": "2023-10-12T08:41:06.891304",
     "status": "completed"
    },
    "tags": []
   },
   "outputs": [],
   "source": [
    "from xgboost import XGBClassifier \n",
    "f=[\"Pclass\",\"Sex\",\"Parch\",\"SibSp\"]\n",
    "\n",
    "y= data[\"Survived\"]\n",
    "x = pd.get_dummies(data[f])\n",
    "#X_train, X_val, y_train, y_val = train_test_split(x, y, test_size = 0.2, random_state = 42)\n",
    "test_x=pd.get_dummies(test[f])\n",
    "# model = XGBClassifier (n_estimators=50, learning_rate=0.05, n_jobs=4)\n",
    "# model.fit(X_train,y_train )\n",
    "# predictions = model.predict(X_val)\n",
    "\n",
    "\n"
   ]
  },
  {
   "cell_type": "code",
   "execution_count": 19,
   "id": "b93d5927",
   "metadata": {
    "execution": {
     "iopub.execute_input": "2023-10-12T08:41:07.113193Z",
     "iopub.status.busy": "2023-10-12T08:41:07.112064Z",
     "iopub.status.idle": "2023-10-12T08:41:07.116217Z",
     "shell.execute_reply": "2023-10-12T08:41:07.115447Z"
    },
    "papermill": {
     "duration": 0.014535,
     "end_time": "2023-10-12T08:41:07.118216",
     "exception": false,
     "start_time": "2023-10-12T08:41:07.103681",
     "status": "completed"
    },
    "tags": []
   },
   "outputs": [],
   "source": [
    "# from sklearn.metrics import accuracy_score\n",
    "# accuracy_score(y_val,predictions)"
   ]
  },
  {
   "cell_type": "code",
   "execution_count": 20,
   "id": "72151edc",
   "metadata": {
    "execution": {
     "iopub.execute_input": "2023-10-12T08:41:07.134206Z",
     "iopub.status.busy": "2023-10-12T08:41:07.133793Z",
     "iopub.status.idle": "2023-10-12T08:41:07.180285Z",
     "shell.execute_reply": "2023-10-12T08:41:07.179462Z"
    },
    "papermill": {
     "duration": 0.057771,
     "end_time": "2023-10-12T08:41:07.182962",
     "exception": false,
     "start_time": "2023-10-12T08:41:07.125191",
     "status": "completed"
    },
    "tags": []
   },
   "outputs": [],
   "source": [
    "model_1 = XGBClassifier (n_estimators=50, learning_rate=0.05, n_jobs=4)\n",
    "model_1.fit(x,y)\n",
    "predictions_1 = model_1.predict(test_x)"
   ]
  },
  {
   "cell_type": "code",
   "execution_count": 21,
   "id": "1bad8c40",
   "metadata": {
    "execution": {
     "iopub.execute_input": "2023-10-12T08:41:07.201079Z",
     "iopub.status.busy": "2023-10-12T08:41:07.200708Z",
     "iopub.status.idle": "2023-10-12T08:41:07.209934Z",
     "shell.execute_reply": "2023-10-12T08:41:07.208783Z"
    },
    "papermill": {
     "duration": 0.019925,
     "end_time": "2023-10-12T08:41:07.211845",
     "exception": false,
     "start_time": "2023-10-12T08:41:07.191920",
     "status": "completed"
    },
    "tags": []
   },
   "outputs": [
    {
     "name": "stdout",
     "output_type": "stream",
     "text": [
      "Your submission was successfully saved!\n"
     ]
    }
   ],
   "source": [
    "output = pd.DataFrame({'PassengerId': test.PassengerId, 'Survived': predictions_1})\n",
    "output.to_csv('submission.csv', index=False)\n",
    "print(\"Your submission was successfully saved!\")"
   ]
  },
  {
   "cell_type": "code",
   "execution_count": null,
   "id": "8ef8e46e",
   "metadata": {
    "papermill": {
     "duration": 0.006685,
     "end_time": "2023-10-12T08:41:07.225639",
     "exception": false,
     "start_time": "2023-10-12T08:41:07.218954",
     "status": "completed"
    },
    "tags": []
   },
   "outputs": [],
   "source": []
  }
 ],
 "metadata": {
  "kernelspec": {
   "display_name": "Python 3",
   "language": "python",
   "name": "python3"
  },
  "language_info": {
   "codemirror_mode": {
    "name": "ipython",
    "version": 3
   },
   "file_extension": ".py",
   "mimetype": "text/x-python",
   "name": "python",
   "nbconvert_exporter": "python",
   "pygments_lexer": "ipython3",
   "version": "3.10.12"
  },
  "papermill": {
   "default_parameters": {},
   "duration": 7.82268,
   "end_time": "2023-10-12T08:41:07.855240",
   "environment_variables": {},
   "exception": null,
   "input_path": "__notebook__.ipynb",
   "output_path": "__notebook__.ipynb",
   "parameters": {},
   "start_time": "2023-10-12T08:41:00.032560",
   "version": "2.4.0"
  }
 },
 "nbformat": 4,
 "nbformat_minor": 5
}
